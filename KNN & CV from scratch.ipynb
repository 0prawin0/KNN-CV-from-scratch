{
 "cells": [
  {
   "cell_type": "code",
   "execution_count": 1,
   "id": "a05b4cbe",
   "metadata": {
    "ExecuteTime": {
     "end_time": "2023-09-19T11:43:38.248756Z",
     "start_time": "2023-09-19T11:43:36.648488Z"
    }
   },
   "outputs": [],
   "source": [
    "# Import necessary libraries\n",
    "import pandas as pd\n",
    "import numpy as np\n",
    "from sklearn.model_selection import train_test_split, cross_val_score\n",
    "from sklearn.metrics import mean_absolute_percentage_error\n",
    "from sklearn.preprocessing import StandardScaler\n",
    "import matplotlib.pyplot as plt\n"
   ]
  },
  {
   "cell_type": "code",
   "execution_count": 2,
   "id": "e97dafbf",
   "metadata": {
    "ExecuteTime": {
     "end_time": "2023-09-19T11:43:38.296503Z",
     "start_time": "2023-09-19T11:43:38.248756Z"
    }
   },
   "outputs": [
    {
     "data": {
      "text/html": [
       "<div>\n",
       "<style scoped>\n",
       "    .dataframe tbody tr th:only-of-type {\n",
       "        vertical-align: middle;\n",
       "    }\n",
       "\n",
       "    .dataframe tbody tr th {\n",
       "        vertical-align: top;\n",
       "    }\n",
       "\n",
       "    .dataframe thead th {\n",
       "        text-align: right;\n",
       "    }\n",
       "</style>\n",
       "<table border=\"1\" class=\"dataframe\">\n",
       "  <thead>\n",
       "    <tr style=\"text-align: right;\">\n",
       "      <th></th>\n",
       "      <th>c1</th>\n",
       "      <th>c2</th>\n",
       "      <th>c3</th>\n",
       "      <th>c4</th>\n",
       "      <th>c5</th>\n",
       "      <th>c6</th>\n",
       "      <th>c7</th>\n",
       "      <th>c8</th>\n",
       "      <th>c9</th>\n",
       "      <th>c10</th>\n",
       "      <th>...</th>\n",
       "      <th>c17</th>\n",
       "      <th>c18</th>\n",
       "      <th>c19</th>\n",
       "      <th>c20</th>\n",
       "      <th>c21</th>\n",
       "      <th>c22</th>\n",
       "      <th>c23</th>\n",
       "      <th>c24</th>\n",
       "      <th>c25</th>\n",
       "      <th>l1</th>\n",
       "    </tr>\n",
       "  </thead>\n",
       "  <tbody>\n",
       "    <tr>\n",
       "      <th>0</th>\n",
       "      <td>3</td>\n",
       "      <td>?</td>\n",
       "      <td>alfa-romero</td>\n",
       "      <td>gas</td>\n",
       "      <td>std</td>\n",
       "      <td>two</td>\n",
       "      <td>convertible</td>\n",
       "      <td>rwd</td>\n",
       "      <td>front</td>\n",
       "      <td>88.6</td>\n",
       "      <td>...</td>\n",
       "      <td>130</td>\n",
       "      <td>mpfi</td>\n",
       "      <td>3.47</td>\n",
       "      <td>2.68</td>\n",
       "      <td>9.0</td>\n",
       "      <td>111</td>\n",
       "      <td>5000</td>\n",
       "      <td>21</td>\n",
       "      <td>27</td>\n",
       "      <td>13495</td>\n",
       "    </tr>\n",
       "    <tr>\n",
       "      <th>1</th>\n",
       "      <td>3</td>\n",
       "      <td>?</td>\n",
       "      <td>alfa-romero</td>\n",
       "      <td>gas</td>\n",
       "      <td>std</td>\n",
       "      <td>two</td>\n",
       "      <td>convertible</td>\n",
       "      <td>rwd</td>\n",
       "      <td>front</td>\n",
       "      <td>88.6</td>\n",
       "      <td>...</td>\n",
       "      <td>130</td>\n",
       "      <td>mpfi</td>\n",
       "      <td>3.47</td>\n",
       "      <td>2.68</td>\n",
       "      <td>9.0</td>\n",
       "      <td>111</td>\n",
       "      <td>5000</td>\n",
       "      <td>21</td>\n",
       "      <td>27</td>\n",
       "      <td>16500</td>\n",
       "    </tr>\n",
       "    <tr>\n",
       "      <th>2</th>\n",
       "      <td>1</td>\n",
       "      <td>?</td>\n",
       "      <td>alfa-romero</td>\n",
       "      <td>gas</td>\n",
       "      <td>std</td>\n",
       "      <td>two</td>\n",
       "      <td>hatchback</td>\n",
       "      <td>rwd</td>\n",
       "      <td>front</td>\n",
       "      <td>94.5</td>\n",
       "      <td>...</td>\n",
       "      <td>152</td>\n",
       "      <td>mpfi</td>\n",
       "      <td>2.68</td>\n",
       "      <td>3.47</td>\n",
       "      <td>9.0</td>\n",
       "      <td>154</td>\n",
       "      <td>5000</td>\n",
       "      <td>19</td>\n",
       "      <td>26</td>\n",
       "      <td>16500</td>\n",
       "    </tr>\n",
       "    <tr>\n",
       "      <th>3</th>\n",
       "      <td>2</td>\n",
       "      <td>164</td>\n",
       "      <td>audi</td>\n",
       "      <td>gas</td>\n",
       "      <td>std</td>\n",
       "      <td>four</td>\n",
       "      <td>sedan</td>\n",
       "      <td>fwd</td>\n",
       "      <td>front</td>\n",
       "      <td>99.8</td>\n",
       "      <td>...</td>\n",
       "      <td>109</td>\n",
       "      <td>mpfi</td>\n",
       "      <td>3.19</td>\n",
       "      <td>3.4</td>\n",
       "      <td>10.0</td>\n",
       "      <td>102</td>\n",
       "      <td>5500</td>\n",
       "      <td>24</td>\n",
       "      <td>30</td>\n",
       "      <td>13950</td>\n",
       "    </tr>\n",
       "    <tr>\n",
       "      <th>4</th>\n",
       "      <td>2</td>\n",
       "      <td>164</td>\n",
       "      <td>audi</td>\n",
       "      <td>gas</td>\n",
       "      <td>std</td>\n",
       "      <td>four</td>\n",
       "      <td>sedan</td>\n",
       "      <td>4wd</td>\n",
       "      <td>front</td>\n",
       "      <td>99.4</td>\n",
       "      <td>...</td>\n",
       "      <td>136</td>\n",
       "      <td>mpfi</td>\n",
       "      <td>3.19</td>\n",
       "      <td>3.4</td>\n",
       "      <td>8.0</td>\n",
       "      <td>115</td>\n",
       "      <td>5500</td>\n",
       "      <td>18</td>\n",
       "      <td>22</td>\n",
       "      <td>17450</td>\n",
       "    </tr>\n",
       "    <tr>\n",
       "      <th>...</th>\n",
       "      <td>...</td>\n",
       "      <td>...</td>\n",
       "      <td>...</td>\n",
       "      <td>...</td>\n",
       "      <td>...</td>\n",
       "      <td>...</td>\n",
       "      <td>...</td>\n",
       "      <td>...</td>\n",
       "      <td>...</td>\n",
       "      <td>...</td>\n",
       "      <td>...</td>\n",
       "      <td>...</td>\n",
       "      <td>...</td>\n",
       "      <td>...</td>\n",
       "      <td>...</td>\n",
       "      <td>...</td>\n",
       "      <td>...</td>\n",
       "      <td>...</td>\n",
       "      <td>...</td>\n",
       "      <td>...</td>\n",
       "      <td>...</td>\n",
       "    </tr>\n",
       "    <tr>\n",
       "      <th>200</th>\n",
       "      <td>-1</td>\n",
       "      <td>95</td>\n",
       "      <td>volvo</td>\n",
       "      <td>gas</td>\n",
       "      <td>std</td>\n",
       "      <td>four</td>\n",
       "      <td>sedan</td>\n",
       "      <td>rwd</td>\n",
       "      <td>front</td>\n",
       "      <td>109.1</td>\n",
       "      <td>...</td>\n",
       "      <td>141</td>\n",
       "      <td>mpfi</td>\n",
       "      <td>3.78</td>\n",
       "      <td>3.15</td>\n",
       "      <td>9.5</td>\n",
       "      <td>114</td>\n",
       "      <td>5400</td>\n",
       "      <td>23</td>\n",
       "      <td>28</td>\n",
       "      <td>16845</td>\n",
       "    </tr>\n",
       "    <tr>\n",
       "      <th>201</th>\n",
       "      <td>-1</td>\n",
       "      <td>95</td>\n",
       "      <td>volvo</td>\n",
       "      <td>gas</td>\n",
       "      <td>turbo</td>\n",
       "      <td>four</td>\n",
       "      <td>sedan</td>\n",
       "      <td>rwd</td>\n",
       "      <td>front</td>\n",
       "      <td>109.1</td>\n",
       "      <td>...</td>\n",
       "      <td>141</td>\n",
       "      <td>mpfi</td>\n",
       "      <td>3.78</td>\n",
       "      <td>3.15</td>\n",
       "      <td>8.7</td>\n",
       "      <td>160</td>\n",
       "      <td>5300</td>\n",
       "      <td>19</td>\n",
       "      <td>25</td>\n",
       "      <td>19045</td>\n",
       "    </tr>\n",
       "    <tr>\n",
       "      <th>202</th>\n",
       "      <td>-1</td>\n",
       "      <td>95</td>\n",
       "      <td>volvo</td>\n",
       "      <td>gas</td>\n",
       "      <td>std</td>\n",
       "      <td>four</td>\n",
       "      <td>sedan</td>\n",
       "      <td>rwd</td>\n",
       "      <td>front</td>\n",
       "      <td>109.1</td>\n",
       "      <td>...</td>\n",
       "      <td>173</td>\n",
       "      <td>mpfi</td>\n",
       "      <td>3.58</td>\n",
       "      <td>2.87</td>\n",
       "      <td>8.8</td>\n",
       "      <td>134</td>\n",
       "      <td>5500</td>\n",
       "      <td>18</td>\n",
       "      <td>23</td>\n",
       "      <td>21485</td>\n",
       "    </tr>\n",
       "    <tr>\n",
       "      <th>203</th>\n",
       "      <td>-1</td>\n",
       "      <td>95</td>\n",
       "      <td>volvo</td>\n",
       "      <td>diesel</td>\n",
       "      <td>turbo</td>\n",
       "      <td>four</td>\n",
       "      <td>sedan</td>\n",
       "      <td>rwd</td>\n",
       "      <td>front</td>\n",
       "      <td>109.1</td>\n",
       "      <td>...</td>\n",
       "      <td>145</td>\n",
       "      <td>idi</td>\n",
       "      <td>3.01</td>\n",
       "      <td>3.4</td>\n",
       "      <td>23.0</td>\n",
       "      <td>106</td>\n",
       "      <td>4800</td>\n",
       "      <td>26</td>\n",
       "      <td>27</td>\n",
       "      <td>22470</td>\n",
       "    </tr>\n",
       "    <tr>\n",
       "      <th>204</th>\n",
       "      <td>-1</td>\n",
       "      <td>95</td>\n",
       "      <td>volvo</td>\n",
       "      <td>gas</td>\n",
       "      <td>turbo</td>\n",
       "      <td>four</td>\n",
       "      <td>sedan</td>\n",
       "      <td>rwd</td>\n",
       "      <td>front</td>\n",
       "      <td>109.1</td>\n",
       "      <td>...</td>\n",
       "      <td>141</td>\n",
       "      <td>mpfi</td>\n",
       "      <td>3.78</td>\n",
       "      <td>3.15</td>\n",
       "      <td>9.5</td>\n",
       "      <td>114</td>\n",
       "      <td>5400</td>\n",
       "      <td>19</td>\n",
       "      <td>25</td>\n",
       "      <td>22625</td>\n",
       "    </tr>\n",
       "  </tbody>\n",
       "</table>\n",
       "<p>205 rows × 26 columns</p>\n",
       "</div>"
      ],
      "text/plain": [
       "     c1   c2           c3      c4     c5    c6           c7   c8     c9  \\\n",
       "0     3    ?  alfa-romero     gas    std   two  convertible  rwd  front   \n",
       "1     3    ?  alfa-romero     gas    std   two  convertible  rwd  front   \n",
       "2     1    ?  alfa-romero     gas    std   two    hatchback  rwd  front   \n",
       "3     2  164         audi     gas    std  four        sedan  fwd  front   \n",
       "4     2  164         audi     gas    std  four        sedan  4wd  front   \n",
       "..   ..  ...          ...     ...    ...   ...          ...  ...    ...   \n",
       "200  -1   95        volvo     gas    std  four        sedan  rwd  front   \n",
       "201  -1   95        volvo     gas  turbo  four        sedan  rwd  front   \n",
       "202  -1   95        volvo     gas    std  four        sedan  rwd  front   \n",
       "203  -1   95        volvo  diesel  turbo  four        sedan  rwd  front   \n",
       "204  -1   95        volvo     gas  turbo  four        sedan  rwd  front   \n",
       "\n",
       "       c10  ...  c17   c18   c19   c20   c21  c22   c23 c24 c25     l1  \n",
       "0     88.6  ...  130  mpfi  3.47  2.68   9.0  111  5000  21  27  13495  \n",
       "1     88.6  ...  130  mpfi  3.47  2.68   9.0  111  5000  21  27  16500  \n",
       "2     94.5  ...  152  mpfi  2.68  3.47   9.0  154  5000  19  26  16500  \n",
       "3     99.8  ...  109  mpfi  3.19   3.4  10.0  102  5500  24  30  13950  \n",
       "4     99.4  ...  136  mpfi  3.19   3.4   8.0  115  5500  18  22  17450  \n",
       "..     ...  ...  ...   ...   ...   ...   ...  ...   ...  ..  ..    ...  \n",
       "200  109.1  ...  141  mpfi  3.78  3.15   9.5  114  5400  23  28  16845  \n",
       "201  109.1  ...  141  mpfi  3.78  3.15   8.7  160  5300  19  25  19045  \n",
       "202  109.1  ...  173  mpfi  3.58  2.87   8.8  134  5500  18  23  21485  \n",
       "203  109.1  ...  145   idi  3.01   3.4  23.0  106  4800  26  27  22470  \n",
       "204  109.1  ...  141  mpfi  3.78  3.15   9.5  114  5400  19  25  22625  \n",
       "\n",
       "[205 rows x 26 columns]"
      ]
     },
     "execution_count": 2,
     "metadata": {},
     "output_type": "execute_result"
    }
   ],
   "source": [
    "df_main = pd.read_csv(r'C:\\Users\\Prawin\\Desktop\\Praxis assessment\\IML\\Assignment-2\\imports-85.data.csv')\n",
    "df_main"
   ]
  },
  {
   "cell_type": "code",
   "execution_count": 3,
   "id": "1016466f",
   "metadata": {
    "ExecuteTime": {
     "end_time": "2023-09-19T11:43:38.312504Z",
     "start_time": "2023-09-19T11:43:38.296503Z"
    },
    "scrolled": true
   },
   "outputs": [
    {
     "data": {
      "text/plain": [
       "Index(['c1', 'c2', 'c3', 'c4', 'c5', 'c6', 'c7', 'c8', 'c9', 'c10', 'c11',\n",
       "       'c12', 'c13', 'c14', 'c15', 'c16', 'c17', 'c18', 'c19', 'c20', 'c21',\n",
       "       'c22', 'c23', 'c24', 'c25', 'l1'],\n",
       "      dtype='object')"
      ]
     },
     "execution_count": 3,
     "metadata": {},
     "output_type": "execute_result"
    }
   ],
   "source": [
    "df_main.columns"
   ]
  },
  {
   "cell_type": "code",
   "execution_count": 4,
   "id": "5a540d7a",
   "metadata": {
    "ExecuteTime": {
     "end_time": "2023-09-19T11:43:38.324502Z",
     "start_time": "2023-09-19T11:43:38.312504Z"
    }
   },
   "outputs": [],
   "source": [
    "df_main.drop(['c2', 'c3', 'c4', 'c5', 'c6', 'c7', 'c8', 'c9','c15','c16','c18','c19','c20','c22','c23'],inplace=True,axis=1)"
   ]
  },
  {
   "cell_type": "code",
   "execution_count": 5,
   "id": "d1378341",
   "metadata": {
    "ExecuteTime": {
     "end_time": "2023-09-19T11:43:38.340502Z",
     "start_time": "2023-09-19T11:43:38.324502Z"
    }
   },
   "outputs": [],
   "source": [
    "df_main = df_main.loc[df_main['l1']!='?']"
   ]
  },
  {
   "cell_type": "code",
   "execution_count": 23,
   "id": "c763fb4a",
   "metadata": {
    "ExecuteTime": {
     "end_time": "2023-09-19T12:00:50.254119Z",
     "start_time": "2023-09-19T12:00:50.246116Z"
    }
   },
   "outputs": [
    {
     "name": "stderr",
     "output_type": "stream",
     "text": [
      "C:\\Users\\Prawin\\AppData\\Local\\Temp/ipykernel_19884/3909061628.py:1: SettingWithCopyWarning: \n",
      "A value is trying to be set on a copy of a slice from a DataFrame.\n",
      "Try using .loc[row_indexer,col_indexer] = value instead\n",
      "\n",
      "See the caveats in the documentation: https://pandas.pydata.org/pandas-docs/stable/user_guide/indexing.html#returning-a-view-versus-a-copy\n",
      "  df_main['l1'] = pd.to_numeric(df_main['l1'])\n"
     ]
    }
   ],
   "source": [
    "df_main['l1'] = pd.to_numeric(df_main['l1'])"
   ]
  },
  {
   "cell_type": "code",
   "execution_count": 7,
   "id": "991efefa",
   "metadata": {
    "ExecuteTime": {
     "end_time": "2023-09-19T11:43:38.372554Z",
     "start_time": "2023-09-19T11:43:38.356512Z"
    }
   },
   "outputs": [
    {
     "name": "stderr",
     "output_type": "stream",
     "text": [
      "C:\\MyDrive\\Term1\\lib\\site-packages\\pandas\\util\\_decorators.py:311: SettingWithCopyWarning: \n",
      "A value is trying to be set on a copy of a slice from a DataFrame\n",
      "\n",
      "See the caveats in the documentation: https://pandas.pydata.org/pandas-docs/stable/user_guide/indexing.html#returning-a-view-versus-a-copy\n",
      "  return func(*args, **kwargs)\n"
     ]
    }
   ],
   "source": [
    "df_main.dropna(inplace=True)"
   ]
  },
  {
   "cell_type": "code",
   "execution_count": 8,
   "id": "bea79487",
   "metadata": {
    "ExecuteTime": {
     "end_time": "2023-09-19T11:43:38.388507Z",
     "start_time": "2023-09-19T11:43:38.372554Z"
    }
   },
   "outputs": [],
   "source": [
    "df_main.dropna(inplace=True)"
   ]
  },
  {
   "cell_type": "code",
   "execution_count": 16,
   "id": "07fe7175",
   "metadata": {
    "ExecuteTime": {
     "end_time": "2023-09-19T11:54:02.644800Z",
     "start_time": "2023-09-19T11:54:02.632792Z"
    }
   },
   "outputs": [],
   "source": [
    "def knn_method(df,df_y,df_test,k,target_var):\n",
    "    df_main = pd.concat([df,df_y],axis = 1)\n",
    "    master_dist=[]\n",
    "    for y in range(0,df_test.shape[0]):\n",
    "        distances=[]\n",
    "        for x in range(0,df.shape[0]):\n",
    "            res1 = 0\n",
    "            a=(df.iloc[x,:]-df_test.iloc[y,:])**2\n",
    "            distances.append(a.sum()**0.5)\n",
    "        master_dist.append(distances)\n",
    "\n",
    "    del_df=pd.DataFrame()    \n",
    "    del_df['distances']=master_dist\n",
    "    from scipy.stats import rankdata\n",
    "    rank_list = []\n",
    "    for x in del_df['distances']:\n",
    "        rank_temp = rankdata(x,method='min')\n",
    "        rank_list.append(rank_temp)\n",
    "\n",
    "    del_df['rank']=rank_list\n",
    "\n",
    "    df_y_pred=[]\n",
    "    for a in range(df_test.shape[0]):\n",
    "        temp_df = (df_main.set_index(keys=del_df['rank'][a])).sort_index()\n",
    "        val = 0\n",
    "        val = temp_df[target_var][:k].sum()\n",
    "        val = val/k\n",
    "        df_y_pred.append(val)\n",
    "    df_test['y_pred'] = df_y_pred\n",
    "    return df_test"
   ]
  },
  {
   "cell_type": "code",
   "execution_count": 20,
   "id": "669d9dca",
   "metadata": {
    "ExecuteTime": {
     "end_time": "2023-09-19T11:58:55.118119Z",
     "start_time": "2023-09-19T11:58:55.106144Z"
    }
   },
   "outputs": [],
   "source": [
    "def cv_method(cv,df_main,k=3):\n",
    "    from sklearn.metrics import mean_absolute_percentage_error\n",
    "    df_shuf = df_main.sample(frac=1, random_state=42)\n",
    "    df_shuf = df_shuf.reset_index(drop=True)\n",
    "    len_df = df_main.shape[0]\n",
    "    train_mape_list = []\n",
    "    test_mape_list = []\n",
    "\n",
    "    for i in range(cv):\n",
    "        start = int(i * len(df_shuf) / cv)\n",
    "        end = int((i + 1) * len(df_shuf) /cv)\n",
    "        train_x = pd.concat([df_shuf.iloc[:start,:-1], df_shuf.iloc[end:,:-1]])\n",
    "        test_x = df_shuf.iloc[start:end,:-1]\n",
    "        train_y = pd.concat([df_shuf.iloc[:start,-1], df_shuf.iloc[end:,-1]])\n",
    "        test_y = df_shuf.iloc[start:end,-1]\n",
    "        test_new = knn_method(train_x,train_y,test_x,k,'l1')\n",
    "        test_mape = mean_absolute_percentage_error(test_y,test_new['y_pred'])\n",
    "        test_mape_list.append(test_mape)\n",
    "    return test_mape_list"
   ]
  },
  {
   "cell_type": "code",
   "execution_count": 21,
   "id": "9ac6e785",
   "metadata": {
    "ExecuteTime": {
     "end_time": "2023-09-19T11:59:10.810558Z",
     "start_time": "2023-09-19T11:58:56.338568Z"
    }
   },
   "outputs": [
    {
     "data": {
      "text/plain": [
       "[0.19089685026337014,\n",
       " 0.16620699917762807,\n",
       " 0.15696330055844998,\n",
       " 0.12709033922259122,\n",
       " 0.1884176448515598]"
      ]
     },
     "execution_count": 21,
     "metadata": {},
     "output_type": "execute_result"
    }
   ],
   "source": [
    "cv_method(5,df_main)"
   ]
  }
 ],
 "metadata": {
  "kernelspec": {
   "display_name": "Python 3 (ipykernel)",
   "language": "python",
   "name": "python3"
  },
  "language_info": {
   "codemirror_mode": {
    "name": "ipython",
    "version": 3
   },
   "file_extension": ".py",
   "mimetype": "text/x-python",
   "name": "python",
   "nbconvert_exporter": "python",
   "pygments_lexer": "ipython3",
   "version": "3.9.7"
  }
 },
 "nbformat": 4,
 "nbformat_minor": 5
}
